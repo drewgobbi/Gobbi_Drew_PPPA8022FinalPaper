{
 "cells": [
  {
   "cell_type": "code",
   "execution_count": null,
   "metadata": {},
   "outputs": [],
   "source": [
    "import pandas as pd\n",
    "import numpy as np\n",
    "import statsmodels.api as sm \n",
    "import statsmodels.formula.api as smf \n",
    "import os"
   ]
  },
  {
   "cell_type": "code",
   "execution_count": null,
   "metadata": {},
   "outputs": [],
   "source": [
    "os.chdir('/home/jovyan/PPPA8022/Replication/Final')"
   ]
  },
  {
   "cell_type": "code",
   "execution_count": null,
   "metadata": {
    "collapsed": true
   },
   "outputs": [],
   "source": [
    "a0414 = pd.read_csv('full_20042014.csv')\n",
    "a1014 = pd.read_csv('full_20102014.csv')\n",
    "g0414 = pd.read_csv('growth_20042014.csv')\n",
    "g1014 = pd.read_csv('growth_20102014.csv')"
   ]
  },
  {
   "cell_type": "markdown",
   "metadata": {},
   "source": [
    "### Trends Test \n",
    "\"If long-run trends differ between Kansas and the other states that serve as a control group, then we risk interpreting preexisting conditions in employment trends as a treatment effect. To check for this, we conduct a trend test using the quarterly data from 2004 to 2014 and regressing QWI quarterly county establishment employment on eleven year dummies, state fixed effects, and interactions of the Kansas state indicator and year dummies. If the coefficient estimates on the interaction terms are statistically significant, then Kansas employment deviates from the control group employment trend. The results are available upon request and show that the coefficient estimates on the interaction terms are statistically insignificant. Thus, we are more confident that any policy effect we detect from the Kansas tax base change is not due to differing long-term employment trends.\""
   ]
  },
  {
   "cell_type": "code",
   "execution_count": null,
   "metadata": {},
   "outputs": [],
   "source": [
    "a0414.columns"
   ]
  },
  {
   "cell_type": "code",
   "execution_count": null,
   "metadata": {
    "collapsed": true
   },
   "outputs": [],
   "source": [
    "trend = a0414.filter(['Emp', 'year', 'stateFIPS'])"
   ]
  },
  {
   "cell_type": "code",
   "execution_count": null,
   "metadata": {
    "scrolled": false
   },
   "outputs": [],
   "source": [
    "trend_test = smf.ols(formula='Emp ~ C(year)*C(stateFIPS)', data=trend).fit()\n",
    "print(trend_test.summary())"
   ]
  },
  {
   "cell_type": "code",
   "execution_count": null,
   "metadata": {
    "collapsed": true
   },
   "outputs": [],
   "source": [
    "from statsmodels.iolib.summary2 import summary_col\n",
    "trend_test = summary_col([trend_test],stars=True)"
   ]
  },
  {
   "cell_type": "code",
   "execution_count": null,
   "metadata": {
    "scrolled": false
   },
   "outputs": [],
   "source": [
    "trend_test"
   ]
  },
  {
   "cell_type": "markdown",
   "metadata": {},
   "source": [
    "So...we pass the trend test! nearly all params and interactions are insignificant..."
   ]
  },
  {
   "cell_type": "markdown",
   "metadata": {},
   "source": [
    "### Linear Regressions"
   ]
  },
  {
   "cell_type": "markdown",
   "metadata": {},
   "source": [
    "#### 2004-2010"
   ]
  },
  {
   "cell_type": "code",
   "execution_count": null,
   "metadata": {},
   "outputs": [],
   "source": [
    "#log linear\n",
    "sp1 = \"\"\"logy ~ KPost2012 + pop10 + str + imtr + cmtr + C(qtryr) +C(countyFIPS) + tt_CO +\n",
    "tt_KS + tt_MO + tt_NE + tt_OK\"\"\"\n",
    "spec1 = smf.ols(formula=sp1, data=a0414).fit(cov_type ='cluster', cov_kwds=\n",
    "                                             {'groups': a0414.stateFIPS})\n",
    "spec1.summary()"
   ]
  },
  {
   "cell_type": "code",
   "execution_count": null,
   "metadata": {},
   "outputs": [],
   "source": [
    "#per capita\n",
    "sp2 = \"\"\"percap_emp ~ KPost2012 + str + imtr + cmtr + C(qtryr) +C(countyFIPS) + tt_CO +\n",
    "tt_KS + tt_MO + tt_NE + tt_OK\"\"\"\n",
    "spec2 = smf.ols(formula=sp2, data=a0414).fit(cov_type ='cluster', cov_kwds=\n",
    "                                             {'groups': a0414.stateFIPS})\n",
    "spec2.summary()"
   ]
  },
  {
   "cell_type": "code",
   "execution_count": null,
   "metadata": {},
   "outputs": [],
   "source": [
    "#growth rate\n",
    "sp3 = \"\"\"emp_growth ~ KPost2012 + str + cmtr + pop10 + imtr + C(qtryr) +C(countyFIPS) + tt_CO +\n",
    "tt_KS + tt_MO + tt_NE + tt_OK\"\"\"\n",
    "spec3 = smf.ols(formula=sp3, data=g0414).fit(cov_type ='cluster', cov_kwds=\n",
    "                                             {'groups': g0414.stateFIPS})\n",
    "spec3.summary()"
   ]
  },
  {
   "cell_type": "markdown",
   "metadata": {},
   "source": [
    "#### 2010-2014"
   ]
  },
  {
   "cell_type": "code",
   "execution_count": null,
   "metadata": {},
   "outputs": [],
   "source": [
    "#log linear\n",
    "sp4 = \"\"\"logy ~ KPost2012 + pop10 + str + imtr + C(qtryr) +C(countyFIPS) + tt_CO +\n",
    "tt_KS + tt_MO + tt_NE + tt_OK\"\"\"\n",
    "spec4 = smf.ols(formula=sp4, data=a1014).fit(cov_type ='cluster', cov_kwds=\n",
    "                                             {'groups': a1014.stateFIPS})\n",
    "spec4.summary()"
   ]
  },
  {
   "cell_type": "code",
   "execution_count": null,
   "metadata": {},
   "outputs": [],
   "source": [
    "#per capita \n",
    "sp5 = \"\"\"percap_emp ~ KPost2012 + str + imtr + C(qtryr) +C(countyFIPS) + tt_CO +\n",
    "tt_KS + tt_MO + tt_NE + tt_OK\"\"\"\n",
    "spec5 = smf.ols(formula=sp5, data=a1014).fit(cov_type ='cluster', cov_kwds=\n",
    "                                             {'groups': a1014.stateFIPS})\n",
    "spec5.summary()"
   ]
  },
  {
   "cell_type": "code",
   "execution_count": null,
   "metadata": {
    "collapsed": true
   },
   "outputs": [],
   "source": [
    "g1014 = g1014[g1014['qtryr'] != 2010.1]"
   ]
  },
  {
   "cell_type": "code",
   "execution_count": null,
   "metadata": {},
   "outputs": [],
   "source": [
    "len(g1014)"
   ]
  },
  {
   "cell_type": "code",
   "execution_count": null,
   "metadata": {},
   "outputs": [],
   "source": [
    "len(a1014)"
   ]
  },
  {
   "cell_type": "code",
   "execution_count": null,
   "metadata": {},
   "outputs": [],
   "source": [
    "g1014.year.unique()"
   ]
  },
  {
   "cell_type": "code",
   "execution_count": null,
   "metadata": {},
   "outputs": [],
   "source": [
    "#growth rate\n",
    "sp6 = \"\"\"emp_growth ~ KPost2012 + str + imtr + pop10 + C(qtryr) +C(countyFIPS) + tt_CO +\n",
    "tt_KS + tt_MO + tt_NE + tt_OK\"\"\"\n",
    "spec6 = smf.ols(formula=sp6, data=g1014).fit(cov_type ='cluster', cov_kwds=\n",
    "                                             {'groups': g1014.stateFIPS})\n",
    "spec6.summary()"
   ]
  },
  {
   "cell_type": "code",
   "execution_count": null,
   "metadata": {
    "collapsed": true
   },
   "outputs": [],
   "source": [
    "from statsmodels.iolib.summary2 import summary_col\n",
    "output = summary_col([spec1,spec2,spec3,spec4, spec5, spec6],stars=True)"
   ]
  },
  {
   "cell_type": "markdown",
   "metadata": {},
   "source": [
    "#### My Results"
   ]
  },
  {
   "cell_type": "code",
   "execution_count": null,
   "metadata": {
    "scrolled": true
   },
   "outputs": [],
   "source": [
    "output"
   ]
  },
  {
   "cell_type": "markdown",
   "metadata": {},
   "source": [
    "#### Author's Results\n",
    "![alt text](http://journals.sagepub.com/na101/home/literatum/publisher/sage/journals/content/pfrb/0/pfrb.ahead-of-print/1091142117699274/20170324/images/large/10.1177_1091142117699274-table3.jpeg)"
   ]
  },
  {
   "cell_type": "markdown",
   "metadata": {},
   "source": [
    "Author note: 'We estimate model 1 allowing for different function forms, and since the policy variable is at the state level and the analysis covers all counties in five states over time, we cluster the standard errors at the state level.' So..."
   ]
  }
 ],
 "metadata": {
  "kernelspec": {
   "display_name": "Python 3",
   "language": "python",
   "name": "python3"
  },
  "language_info": {
   "codemirror_mode": {
    "name": "ipython",
    "version": 3
   },
   "file_extension": ".py",
   "mimetype": "text/x-python",
   "name": "python",
   "nbconvert_exporter": "python",
   "pygments_lexer": "ipython3",
   "version": "3.6.2"
  }
 },
 "nbformat": 4,
 "nbformat_minor": 2
}
