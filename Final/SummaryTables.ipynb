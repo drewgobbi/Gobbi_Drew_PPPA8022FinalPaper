{
 "cells": [
  {
   "cell_type": "code",
   "execution_count": null,
   "metadata": {
    "collapsed": true
   },
   "outputs": [],
   "source": [
    "#import all packages \n",
    "import pandas as pd\n",
    "import numpy as np\n",
    "import os \n",
    "a0414 = pd.read_csv('full_20042014.csv')\n",
    "a1014 = pd.read_csv('full_20102014.csv')"
   ]
  },
  {
   "cell_type": "code",
   "execution_count": null,
   "metadata": {
    "collapsed": true
   },
   "outputs": [],
   "source": [
    "a0414.columns"
   ]
  },
  {
   "cell_type": "code",
   "execution_count": null,
   "metadata": {
    "collapsed": true
   },
   "outputs": [],
   "source": [
    "#filter down to only the summary stats \n",
    "summfull = a0414.filter(['population', 'Emp', 'str', 'imtr', 'cmtr'])\n",
    "Tab2_Aa = summfull.describe().T"
   ]
  },
  {
   "cell_type": "code",
   "execution_count": null,
   "metadata": {
    "collapsed": true
   },
   "outputs": [],
   "source": [
    "#reshape table \n",
    "Tab2_Aa.drop(['count', '25%', '50%', '75%'], axis = 1, inplace = True)\n",
    "Tab2_Aa.rename({'population' : 'Population', 'Emp' : 'Private Employment',\n",
    "                          'str' : 'Sales Tax Rate', 'imtr' : 'Individual Top MTR',\n",
    "                          'cmtr' : 'Corporate Top MTR'}, inplace = True)"
   ]
  },
  {
   "cell_type": "code",
   "execution_count": null,
   "metadata": {
    "collapsed": true
   },
   "outputs": [],
   "source": [
    "#do the same for Table2_Ab\n",
    "post2010 = a1014.filter(['population', 'Emp', 'str', 'imtr', 'cmtr', 'proprietors'])\n",
    "Tab2_Ab = post2010.describe().T\n",
    "Tab2_Ab.drop(['count', '25%', '50%', '75%'], axis = 1, inplace = True)\n",
    "Tab2_Ab.rename({'population' : 'Population', 'Emp' : 'Private Employment',\n",
    "                          'str' : 'Sales Tax Rate', 'imtr' : 'Individual Top MTR',\n",
    "                          'cmtr' : 'Corporate Top MTR', 'proprietors' : \n",
    "                          'Number of Proprietors'},inplace = True)"
   ]
  },
  {
   "cell_type": "code",
   "execution_count": null,
   "metadata": {
    "collapsed": true
   },
   "outputs": [],
   "source": [
    "Summary = pd.concat([Tab2_Aa, Tab2_Ab], keys=[\"Years 2004-2014\", \"Years 2010-2014\"])"
   ]
  },
  {
   "cell_type": "markdown",
   "metadata": {},
   "source": [
    "#### Create the Matching Panel"
   ]
  },
  {
   "cell_type": "code",
   "execution_count": null,
   "metadata": {
    "collapsed": true
   },
   "outputs": [],
   "source": [
    "ks = pd.read_csv('ks_key.csv')\n",
    "ks.rename( columns = {'countyFIPS ': 'countyFIPS'}, inplace = True)\n",
    "border = a1014.merge(ks, on = 'countyFIPS')\n",
    "border = border.filter(['population', 'Emp', 'str', 'imtr', 'proprietors']) "
   ]
  },
  {
   "cell_type": "code",
   "execution_count": null,
   "metadata": {
    "collapsed": true
   },
   "outputs": [],
   "source": [
    "Tab2_B = border.describe().T\n",
    "Tab2_B.drop(['count', '25%', '50%', '75%'], axis = 1, inplace = True)\n",
    "Tab2_B.rename({'population' : 'Population', 'Emp' : 'Private Employment',\n",
    "                          'str' : 'Sales Tax Rate', 'imtr' : 'Individual Top MTR',\n",
    "                          'proprietors' : 'Number of Proprietors'},inplace = True)"
   ]
  },
  {
   "cell_type": "code",
   "execution_count": null,
   "metadata": {
    "collapsed": true
   },
   "outputs": [],
   "source": [
    "Tab2_B"
   ]
  },
  {
   "cell_type": "code",
   "execution_count": null,
   "metadata": {
    "collapsed": true
   },
   "outputs": [],
   "source": [
    "Summary = pd.concat([Tab2_Aa, Tab2_Ab, Tab2_B], keys=[\"All Kansas Counties 2004-2014\",\n",
    "                                                      \"All Kansas Counties 2010-2014\",\n",
    "                                                      \"Kansas border county match panel 2010-2014\"])"
   ]
  },
  {
   "cell_type": "markdown",
   "metadata": {},
   "source": [
    "### My Table"
   ]
  },
  {
   "cell_type": "code",
   "execution_count": null,
   "metadata": {
    "collapsed": true
   },
   "outputs": [],
   "source": [
    "Summary"
   ]
  },
  {
   "cell_type": "code",
   "execution_count": null,
   "metadata": {
    "collapsed": true
   },
   "outputs": [],
   "source": [
    "Summary.to_csv('summary.csv')"
   ]
  },
  {
   "cell_type": "code",
   "execution_count": null,
   "metadata": {
    "collapsed": true
   },
   "outputs": [],
   "source": [
    "g1014.head()"
   ]
  },
  {
   "cell_type": "markdown",
   "metadata": {},
   "source": [
    "### Author's Table: \n",
    "![alt text](http://journals.sagepub.com/na101/home/literatum/publisher/sage/journals/content/pfrb/0/pfrb.ahead-of-print/1091142117699274/20170324/images/large/10.1177_1091142117699274-table2.jpeg)"
   ]
  }
 ],
 "metadata": {
  "kernelspec": {
   "display_name": "Python 3",
   "language": "python",
   "name": "python3"
  },
  "language_info": {
   "codemirror_mode": {
    "name": "ipython",
    "version": 3
   },
   "file_extension": ".py",
   "mimetype": "text/x-python",
   "name": "python",
   "nbconvert_exporter": "python",
   "pygments_lexer": "ipython3",
   "version": "3.6.2"
  }
 },
 "nbformat": 4,
 "nbformat_minor": 2
}
