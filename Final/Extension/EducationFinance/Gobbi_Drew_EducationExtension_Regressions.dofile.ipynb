{
 "cells": [
  {
   "cell_type": "code",
   "execution_count": null,
   "metadata": {},
   "outputs": [],
   "source": [
    "import pandas as pd \n",
    "import numpy as np\n",
    "import os\n",
    "import statsmodels.api as sm \n",
    "import statsmodels.formula.api as smf "
   ]
  },
  {
   "cell_type": "code",
   "execution_count": null,
   "metadata": {
    "collapsed": true
   },
   "outputs": [],
   "source": [
    "ed = pd.read_csv('ed.csv')"
   ]
  },
  {
   "cell_type": "code",
   "execution_count": null,
   "metadata": {},
   "outputs": [],
   "source": [
    "ed.head()"
   ]
  },
  {
   "cell_type": "code",
   "execution_count": null,
   "metadata": {
    "collapsed": true
   },
   "outputs": [],
   "source": [
    "full = pd.read_csv('full_20102014.csv')"
   ]
  },
  {
   "cell_type": "code",
   "execution_count": null,
   "metadata": {},
   "outputs": [],
   "source": [
    "full.head()"
   ]
  },
  {
   "cell_type": "code",
   "execution_count": null,
   "metadata": {},
   "outputs": [],
   "source": [
    "full.columns"
   ]
  },
  {
   "cell_type": "code",
   "execution_count": null,
   "metadata": {
    "collapsed": true
   },
   "outputs": [],
   "source": [
    "educ = ed.merge(full, on = ['year', 'stateFIPS', 'countyFIPS'])"
   ]
  },
  {
   "cell_type": "code",
   "execution_count": null,
   "metadata": {
    "collapsed": true
   },
   "outputs": [],
   "source": [
    "educ = educ.filter(['year', 'stateFIPS', 'countyFIPS', 'PPCSTOT', 'TOTALEXP', 'TCURSPND',\n",
    "                    'population', 'pop10', 'quarter', 'KPost2012', 'str', 'imtr', 'cmtr',\n",
    "                    'tt_CO', 'tt_KS', 'tt_NE', 'tt_OK', 'tt_MO'])"
   ]
  },
  {
   "cell_type": "code",
   "execution_count": null,
   "metadata": {
    "collapsed": true
   },
   "outputs": [],
   "source": [
    "educ = educ[educ['quarter'] == 1]"
   ]
  },
  {
   "cell_type": "code",
   "execution_count": null,
   "metadata": {},
   "outputs": [],
   "source": [
    "educ.head()"
   ]
  },
  {
   "cell_type": "code",
   "execution_count": null,
   "metadata": {},
   "outputs": [],
   "source": [
    "#TotalEXP\n",
    "sp1 = \"\"\"np.log(TOTALEXP) ~ KPost2012 + pop10 + str + imtr + cmtr + +C(countyFIPS) + tt_CO +\n",
    "tt_KS + tt_MO + tt_NE + tt_OK\"\"\"\n",
    "TotalEXPlog = smf.ols(formula=sp1, data=educ).fit(cov_type ='cluster', cov_kwds=\n",
    "                                             {'groups': educ.stateFIPS})\n",
    "TotalEXPlog.summary()"
   ]
  },
  {
   "cell_type": "code",
   "execution_count": null,
   "metadata": {},
   "outputs": [],
   "source": [
    "#TotalEXP\n",
    "sp1 = \"\"\"TOTALEXP ~ KPost2012 + pop10 + str + imtr + cmtr + +C(countyFIPS) + tt_CO +\n",
    "tt_KS + tt_MO + tt_NE + tt_OK\"\"\"\n",
    "TotalEXP = smf.ols(formula=sp1, data=educ).fit(cov_type ='cluster', cov_kwds=\n",
    "                                             {'groups': educ.stateFIPS})\n",
    "TotalEXP.summary()"
   ]
  },
  {
   "cell_type": "code",
   "execution_count": null,
   "metadata": {},
   "outputs": [],
   "source": [
    "#PPCSTOT\n",
    "sp2 = \"\"\"np.log(PPCSTOT) ~ KPost2012 + pop10 + str + imtr + cmtr + +C(countyFIPS) + tt_CO +\n",
    "tt_KS + tt_MO + tt_NE + tt_OK\"\"\"\n",
    "PPCSTOTlog = smf.ols(formula=sp2, data=educ).fit(cov_type ='cluster', cov_kwds=\n",
    "                                             {'groups': educ.stateFIPS})\n",
    "PPCSTOTlog.summary()"
   ]
  },
  {
   "cell_type": "code",
   "execution_count": null,
   "metadata": {},
   "outputs": [],
   "source": [
    "#PPCSTOT\n",
    "sp2 = \"\"\"PPCSTOT ~ KPost2012 + pop10 + str + imtr + cmtr + +C(countyFIPS) + tt_CO +\n",
    "tt_KS + tt_MO + tt_NE + tt_OK\"\"\"\n",
    "PPCSTOT = smf.ols(formula=sp2, data=educ).fit(cov_type ='cluster', cov_kwds=\n",
    "                                             {'groups': educ.stateFIPS})\n",
    "PPCSTOT.summary()"
   ]
  },
  {
   "cell_type": "code",
   "execution_count": null,
   "metadata": {},
   "outputs": [],
   "source": [
    "#TCURSPND\n",
    "sp3 = \"\"\"np.log(educ.TCURSPND) ~ KPost2012 + pop10 + str + imtr + cmtr + +C(countyFIPS) + tt_CO +\n",
    "tt_KS + tt_MO + tt_NE + tt_OK\"\"\"\n",
    "TCURSPNDlog = smf.ols(formula=sp3, data=educ).fit(cov_type ='cluster', cov_kwds=\n",
    "                                             {'groups': educ.stateFIPS})\n",
    "TCURSPNDlog.summary()"
   ]
  },
  {
   "cell_type": "code",
   "execution_count": null,
   "metadata": {},
   "outputs": [],
   "source": [
    "#TCURSPND\n",
    "sp3 = \"\"\"educ.TCURSPND ~ KPost2012 + pop10 + str + imtr + cmtr + +C(countyFIPS) + tt_CO +\n",
    "tt_KS + tt_MO + tt_NE + tt_OK\"\"\"\n",
    "TCURSPND = smf.ols(formula=sp3, data=educ).fit(cov_type ='cluster', cov_kwds=\n",
    "                                             {'groups': educ.stateFIPS})\n",
    "TCURSPND.summary()"
   ]
  },
  {
   "cell_type": "code",
   "execution_count": null,
   "metadata": {
    "collapsed": true
   },
   "outputs": [],
   "source": [
    "from statsmodels.iolib.summary2 import summary_col\n",
    "output = summary_col([TotalEXPlog,TotalEXP,PPCSTOT,PPCSTOTlog,\n",
    "                      TCURSPNDlog, TCURSPND],stars=True)"
   ]
  },
  {
   "cell_type": "code",
   "execution_count": null,
   "metadata": {},
   "outputs": [],
   "source": [
    "output"
   ]
  }
 ],
 "metadata": {
  "kernelspec": {
   "display_name": "Python 3",
   "language": "python",
   "name": "python3"
  },
  "language_info": {
   "codemirror_mode": {
    "name": "ipython",
    "version": 3
   },
   "file_extension": ".py",
   "mimetype": "text/x-python",
   "name": "python",
   "nbconvert_exporter": "python",
   "pygments_lexer": "ipython3",
   "version": "3.6.2"
  }
 },
 "nbformat": 4,
 "nbformat_minor": 2
}
