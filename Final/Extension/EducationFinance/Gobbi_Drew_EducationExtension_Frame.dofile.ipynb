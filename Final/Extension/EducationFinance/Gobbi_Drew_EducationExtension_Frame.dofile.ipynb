{
 "cells": [
  {
   "cell_type": "code",
   "execution_count": null,
   "metadata": {
    "collapsed": true
   },
   "outputs": [],
   "source": [
    "import pandas as pd\n",
    "import numpy as np\n",
    "import os \n",
    "\n",
    "full = pd.read_csv('full_20102014.csv')\n",
    "y14 = pd.read_excel('elsec14t.xls')\n",
    "y13 = pd.read_excel('elsec13t.xls')\n",
    "y12 = pd.read_excel('elsec12t.xls')\n",
    "y11 = pd.read_excel('elsec11t.xls')\n",
    "y10 = pd.read_excel('elsec10t.xls')\n",
    "\n",
    "key = pd.read_fwf('Fin_GID_2015.txt', colspecs = [(0,14),(113,115),(115,118)], \n",
    "                  names = ['idcode', 'stateFIPS', 'countyFIPS'])"
   ]
  },
  {
   "cell_type": "code",
   "execution_count": null,
   "metadata": {
    "collapsed": true
   },
   "outputs": [],
   "source": [
    "y14['year'] = 2014\n",
    "y13['year'] = 2013\n",
    "y12['year'] = 2012\n",
    "y11['year'] = 2011\n",
    "y10['year'] = 2010"
   ]
  },
  {
   "cell_type": "code",
   "execution_count": null,
   "metadata": {
    "collapsed": true
   },
   "outputs": [],
   "source": [
    "educ = y14.append(y13)\n",
    "educ = educ.append(y12)\n",
    "educ = educ.append(y11)\n",
    "educ = educ.append(y10)"
   ]
  },
  {
   "cell_type": "code",
   "execution_count": null,
   "metadata": {
    "collapsed": true
   },
   "outputs": [],
   "source": [
    "key = key[key['idcode'] != '01 200000BALDW']"
   ]
  },
  {
   "cell_type": "code",
   "execution_count": null,
   "metadata": {
    "collapsed": true
   },
   "outputs": [],
   "source": [
    "educ['idcode'] = educ.IDCENSUS"
   ]
  },
  {
   "cell_type": "code",
   "execution_count": null,
   "metadata": {
    "collapsed": true
   },
   "outputs": [],
   "source": [
    "key.idcode = key.idcode.astype(int)"
   ]
  },
  {
   "cell_type": "code",
   "execution_count": null,
   "metadata": {
    "collapsed": true
   },
   "outputs": [],
   "source": [
    "edf = educ.merge(key, on = 'idcode')"
   ]
  },
  {
   "cell_type": "code",
   "execution_count": null,
   "metadata": {
    "collapsed": true
   },
   "outputs": [],
   "source": [
    "ks = edf[edf['stateFIPS'] == 20]\n",
    "co = edf[edf['stateFIPS'] == 8]\n",
    "ok = edf[edf['stateFIPS'] == 40]\n",
    "mo = edf[edf['stateFIPS'] == 29]\n",
    "ne = edf[edf['stateFIPS'] == 31]\n",
    "\n",
    "ed = ks.append(mo)\n",
    "ed = ed.append(co)\n",
    "ed = ed.append(ne)\n",
    "ed = ed.append(ok)"
   ]
  },
  {
   "cell_type": "code",
   "execution_count": null,
   "metadata": {
    "collapsed": true
   },
   "outputs": [],
   "source": [
    "ed.countyFIPS = ed.stateFIPS*1000 + ed.countyFIPS"
   ]
  },
  {
   "cell_type": "code",
   "execution_count": null,
   "metadata": {},
   "outputs": [],
   "source": [
    "ed.columns"
   ]
  },
  {
   "cell_type": "code",
   "execution_count": null,
   "metadata": {
    "collapsed": true
   },
   "outputs": [],
   "source": [
    "ed = ed.filter(['year', 'stateFIPS', 'countyFIPS', 'PPCSTOT', 'TOTALEXP', 'TCURSPND'])"
   ]
  },
  {
   "cell_type": "code",
   "execution_count": null,
   "metadata": {
    "collapsed": true
   },
   "outputs": [],
   "source": [
    "ed = ed.groupby(['year', 'stateFIPS', 'countyFIPS']).sum()"
   ]
  },
  {
   "cell_type": "code",
   "execution_count": null,
   "metadata": {},
   "outputs": [],
   "source": [
    "ed.TOTALEXP.mean()"
   ]
  },
  {
   "cell_type": "code",
   "execution_count": null,
   "metadata": {},
   "outputs": [],
   "source": [
    "ed.TCURSPND.mean()"
   ]
  },
  {
   "cell_type": "code",
   "execution_count": null,
   "metadata": {
    "collapsed": true
   },
   "outputs": [],
   "source": [
    "ed.to_csv('ed.csv')"
   ]
  }
 ],
 "metadata": {
  "kernelspec": {
   "display_name": "Python 3",
   "language": "python",
   "name": "python3"
  },
  "language_info": {
   "codemirror_mode": {
    "name": "ipython",
    "version": 3
   },
   "file_extension": ".py",
   "mimetype": "text/x-python",
   "name": "python",
   "nbconvert_exporter": "python",
   "pygments_lexer": "ipython3",
   "version": "3.6.2"
  }
 },
 "nbformat": 4,
 "nbformat_minor": 2
}
