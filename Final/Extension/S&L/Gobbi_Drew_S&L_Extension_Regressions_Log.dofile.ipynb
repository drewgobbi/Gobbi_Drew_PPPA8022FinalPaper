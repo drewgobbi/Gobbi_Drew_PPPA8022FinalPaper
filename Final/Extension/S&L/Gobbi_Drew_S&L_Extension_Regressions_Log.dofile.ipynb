{
 "cells": [
  {
   "cell_type": "code",
   "execution_count": null,
   "metadata": {
    "collapsed": true
   },
   "outputs": [],
   "source": [
    "import pandas as pd\n",
    "import numpy as np\n",
    "import os"
   ]
  },
  {
   "cell_type": "code",
   "execution_count": null,
   "metadata": {
    "collapsed": true
   },
   "outputs": [],
   "source": [
    "os.chdir('/home/jovyan/PPPA8022/Replication/Final')\n",
    "full = pd.read_csv('full_20102014.csv')"
   ]
  },
  {
   "cell_type": "code",
   "execution_count": null,
   "metadata": {
    "collapsed": true
   },
   "outputs": [],
   "source": [
    "os.chdir('/home/jovyan/PPPA8022/Replication/Final/Extension/S&L')\n",
    "fire = pd.read_csv('fire.csv')\n",
    "police = pd.read_csv('police.csv')\n",
    "hous = pd.read_csv('hous.csv')\n",
    "hosp = pd.read_csv('hosp.csv')\n",
    "ed = pd.read_csv('ed.csv')"
   ]
  },
  {
   "cell_type": "code",
   "execution_count": null,
   "metadata": {
    "collapsed": true
   },
   "outputs": [],
   "source": [
    "full = full[full['quarter'] == 1]"
   ]
  },
  {
   "cell_type": "code",
   "execution_count": null,
   "metadata": {
    "collapsed": true
   },
   "outputs": [],
   "source": [
    "full = full.filter(['countyFIPS', 'stateFIPS', 'year', 'pop10', 'quarter', 'str', 'imtr', 'cmtr', 'KPost2012',\n",
    "                   'tt_NE', 'tt_OK', 'tt_CO', 'tt_MO', 'tt_KS'])"
   ]
  },
  {
   "cell_type": "code",
   "execution_count": null,
   "metadata": {},
   "outputs": [],
   "source": [
    "len(fire)"
   ]
  },
  {
   "cell_type": "code",
   "execution_count": null,
   "metadata": {
    "collapsed": true
   },
   "outputs": [],
   "source": [
    "fire = fire.merge(full, on = ['countyFIPS', 'stateFIPS', 'year'])"
   ]
  },
  {
   "cell_type": "code",
   "execution_count": null,
   "metadata": {},
   "outputs": [],
   "source": [
    "fire.head()"
   ]
  },
  {
   "cell_type": "code",
   "execution_count": null,
   "metadata": {},
   "outputs": [],
   "source": [
    "len(police)"
   ]
  },
  {
   "cell_type": "code",
   "execution_count": null,
   "metadata": {},
   "outputs": [],
   "source": [
    "police = police.merge(full, on = ['countyFIPS', 'stateFIPS', 'year'])\n",
    "len(police)"
   ]
  },
  {
   "cell_type": "code",
   "execution_count": null,
   "metadata": {},
   "outputs": [],
   "source": [
    "len(ed)"
   ]
  },
  {
   "cell_type": "code",
   "execution_count": null,
   "metadata": {},
   "outputs": [],
   "source": [
    "len(full)"
   ]
  },
  {
   "cell_type": "code",
   "execution_count": null,
   "metadata": {
    "collapsed": true
   },
   "outputs": [],
   "source": [
    "ed = ed.merge(full, on = ['countyFIPS', 'stateFIPS', 'year'])"
   ]
  },
  {
   "cell_type": "code",
   "execution_count": null,
   "metadata": {},
   "outputs": [],
   "source": [
    "len(ed)"
   ]
  },
  {
   "cell_type": "code",
   "execution_count": null,
   "metadata": {},
   "outputs": [],
   "source": [
    "len(hosp)"
   ]
  },
  {
   "cell_type": "code",
   "execution_count": null,
   "metadata": {
    "collapsed": true
   },
   "outputs": [],
   "source": [
    "hosp = hosp.merge(full, on = ['countyFIPS', 'stateFIPS', 'year'])"
   ]
  },
  {
   "cell_type": "code",
   "execution_count": null,
   "metadata": {},
   "outputs": [],
   "source": [
    "hosp.head()"
   ]
  },
  {
   "cell_type": "code",
   "execution_count": null,
   "metadata": {
    "collapsed": true
   },
   "outputs": [],
   "source": []
  },
  {
   "cell_type": "code",
   "execution_count": null,
   "metadata": {},
   "outputs": [],
   "source": [
    "len(hous)"
   ]
  },
  {
   "cell_type": "code",
   "execution_count": null,
   "metadata": {
    "collapsed": true
   },
   "outputs": [],
   "source": [
    "hous= hous.merge(full, on = ['countyFIPS', 'stateFIPS', 'year'])"
   ]
  },
  {
   "cell_type": "code",
   "execution_count": null,
   "metadata": {},
   "outputs": [],
   "source": [
    "len(hous)"
   ]
  },
  {
   "cell_type": "markdown",
   "metadata": {},
   "source": [
    "### Regressions"
   ]
  },
  {
   "cell_type": "code",
   "execution_count": null,
   "metadata": {},
   "outputs": [],
   "source": [
    "import statsmodels.api as sm \n",
    "import statsmodels.formula.api as smf "
   ]
  },
  {
   "cell_type": "code",
   "execution_count": null,
   "metadata": {},
   "outputs": [],
   "source": [
    "ed.head()"
   ]
  },
  {
   "cell_type": "code",
   "execution_count": null,
   "metadata": {},
   "outputs": [],
   "source": [
    "#ed\n",
    "sp1 = \"\"\"np.log(ed.amount) ~ KPost2012 + pop10 + str + imtr + cmtr + C(year) +C(countyFIPS) + \n",
    "tt_CO + tt_NE + tt_MO +tt_OK + tt_KS\"\"\"\n",
    "edlog = smf.ols(formula=sp1, data=ed).fit(cov_type ='cluster', cov_kwds=\n",
    "                                             {'groups': ed.stateFIPS})\n",
    "edlog.summary()"
   ]
  },
  {
   "cell_type": "code",
   "execution_count": null,
   "metadata": {},
   "outputs": [],
   "source": [
    "#hous\n",
    "sp2 = \"\"\"np.log(hous.amount) ~ KPost2012 + pop10 + str + imtr + cmtr + C(year) +C(countyFIPS)+\n",
    "tt_CO + tt_NE + tt_MO +tt_OK + tt_KS\"\"\"\n",
    "houslog = smf.ols(formula=sp2, data=hous).fit(cov_type ='cluster', cov_kwds=\n",
    "                                             {'groups': hous.stateFIPS})\n",
    "houslog.summary()"
   ]
  },
  {
   "cell_type": "code",
   "execution_count": null,
   "metadata": {},
   "outputs": [],
   "source": [
    "#hosp\n",
    "sp3 = \"\"\"np.log(hosp.amount) ~ KPost2012 + pop10 + str + imtr + cmtr + C(year) +C(countyFIPS)+\n",
    "tt_CO + tt_NE + tt_MO +tt_OK + tt_KS\"\"\"\n",
    "hosplog = smf.ols(formula=sp3, data=hosp).fit(cov_type ='cluster', cov_kwds=\n",
    "                                             {'groups': hosp.stateFIPS})\n",
    "hosplog.summary()"
   ]
  },
  {
   "cell_type": "code",
   "execution_count": null,
   "metadata": {},
   "outputs": [],
   "source": [
    "#police\n",
    "sp4 = \"\"\"np.log(police.amount) ~ KPost2012 + pop10 + str + imtr + cmtr + C(year) +C(countyFIPS)+\n",
    "tt_CO + tt_NE + tt_MO +tt_OK + tt_KS\"\"\"\n",
    "policelog = smf.ols(formula=sp4, data=police).fit(cov_type ='cluster', cov_kwds=\n",
    "                                             {'groups': police.stateFIPS})\n",
    "policelog.summary()"
   ]
  },
  {
   "cell_type": "code",
   "execution_count": null,
   "metadata": {},
   "outputs": [],
   "source": [
    "#fire\n",
    "sp5 = \"\"\"np.log(fire.amount) ~ KPost2012 + pop10 + str + imtr + cmtr + C(year) +C(countyFIPS)+\n",
    "tt_CO + tt_NE + tt_MO +tt_OK + tt_KS\"\"\"\n",
    "firelog = smf.ols(formula=sp5, data=fire).fit(cov_type ='cluster', cov_kwds=\n",
    "                                             {'groups': fire.stateFIPS})\n",
    "firelog.summary()"
   ]
  },
  {
   "cell_type": "code",
   "execution_count": null,
   "metadata": {
    "collapsed": true
   },
   "outputs": [],
   "source": [
    "from statsmodels.iolib.summary2 import summary_col\n",
    "output = summary_col([edlog,houslog,hosplog,firelog,policelog],stars=True)"
   ]
  },
  {
   "cell_type": "code",
   "execution_count": null,
   "metadata": {},
   "outputs": [],
   "source": [
    "output"
   ]
  },
  {
   "cell_type": "code",
   "execution_count": null,
   "metadata": {
    "collapsed": true
   },
   "outputs": [],
   "source": []
  },
  {
   "cell_type": "code",
   "execution_count": null,
   "metadata": {
    "collapsed": true
   },
   "outputs": [],
   "source": []
  }
 ],
 "metadata": {
  "kernelspec": {
   "display_name": "Python 3",
   "language": "python",
   "name": "python3"
  },
  "language_info": {
   "codemirror_mode": {
    "name": "ipython",
    "version": 3
   },
   "file_extension": ".py",
   "mimetype": "text/x-python",
   "name": "python",
   "nbconvert_exporter": "python",
   "pygments_lexer": "ipython3",
   "version": "3.6.2"
  }
 },
 "nbformat": 4,
 "nbformat_minor": 2
}
