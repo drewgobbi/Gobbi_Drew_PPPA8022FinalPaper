{
 "cells": [
  {
   "cell_type": "code",
   "execution_count": null,
   "metadata": {},
   "outputs": [],
   "source": [
    "import pandas as pd\n",
    "import numpy as np\n",
    "import statsmodels.api as sm \n",
    "import statsmodels.formula.api as smf \n",
    "import os"
   ]
  },
  {
   "cell_type": "code",
   "execution_count": null,
   "metadata": {},
   "outputs": [],
   "source": [
    "os.chdir('/home/jovyan/PPPA8022/Replication/Final/')\n",
    "a1014 = pd.read_csv('full_20102014.csv')\n",
    "g1014 = pd.read_csv('growth_20102014.csv')"
   ]
  },
  {
   "cell_type": "code",
   "execution_count": null,
   "metadata": {},
   "outputs": [],
   "source": [
    "os.chdir('/home/jovyan/PPPA8022/Replication/Final/Matching')\n",
    "pairs = pd.read_csv('matching_key.csv')\n",
    "kkey = pd.read_csv('ks_key.csv')\n",
    "p1014 = pd.read_csv('p1014.csv')"
   ]
  },
  {
   "cell_type": "code",
   "execution_count": null,
   "metadata": {
    "collapsed": true
   },
   "outputs": [],
   "source": [
    "pairs.rename(columns = {'KS ' : 'countyFIPS'}, inplace = True)"
   ]
  },
  {
   "cell_type": "code",
   "execution_count": null,
   "metadata": {
    "collapsed": true
   },
   "outputs": [],
   "source": [
    "both = pairs.merge(a1014, on = 'countyFIPS')\n",
    "bothg = pairs.merge(g1014, on = 'countyFIPS')\n",
    "bothp = pairs.merge(p1014, on = 'countyFIPS')"
   ]
  },
  {
   "cell_type": "code",
   "execution_count": null,
   "metadata": {
    "collapsed": true
   },
   "outputs": [],
   "source": [
    "both['pairs'] = both.Group\n",
    "both['time'] = both.qtryr\n",
    "#growth panel\n",
    "bothg['pairs'] = bothg.Group\n",
    "bothg['time'] = bothg.qtryr\n",
    "#prop\n",
    "bothp['pairs'] = bothp.Group\n",
    "bothp['time'] = bothp.qtryr"
   ]
  },
  {
   "cell_type": "code",
   "execution_count": null,
   "metadata": {
    "collapsed": true
   },
   "outputs": [],
   "source": [
    "both['prop_wght'] = both.proprietors * both.Weight\n",
    "both['pop_wght'] = both.population  * both.Weight\n",
    "both['Emp_wght'] = both.Emp * both.Weight\n",
    "both['growth_wght'] = both.emp_growth  * both.Weight\n",
    "both['str_wght'] = both.str  * both.Weight\n",
    "both['imtr_wght'] = both.imtr * both.Weight\n",
    "both['cmtr'] = both.cmtr  * both.Weight\n",
    "both['percap_wght'] =both.percap_emp * both.Weight\n",
    "#growth panel\n",
    "bothg['prop_wght'] = bothg.proprietors * bothg.Weight\n",
    "bothg['pop_wght'] = bothg.population  * bothg.Weight\n",
    "bothg['Emp_wght'] = bothg.Emp * bothg.Weight\n",
    "bothg['growth_wght'] = bothg.emp_growth  * bothg.Weight\n",
    "bothg['str_wght'] = bothg.str  * bothg.Weight\n",
    "bothg['imtr_wght'] = bothg.imtr * bothg.Weight\n",
    "bothg['cmtr'] = bothg.cmtr  * bothg.Weight\n",
    "bothg['percap_wght'] =bothg.percap_emp * bothg.Weight\n",
    "#prop panel\n",
    "bothp['prop_wght'] = bothp.proprietors * bothp.Weight\n",
    "bothp['pop10_wght'] = bothp.pop10  * bothp.Weight\n",
    "bothp['growth_wght'] = bothp.prop_growth  * bothp.Weight\n",
    "bothp['str_wght'] = bothp.str  * bothp.Weight\n",
    "bothp['imtr_wght'] = bothp.imtr * bothp.Weight\n",
    "bothp['cmtr'] = bothp.cmtr  * bothp.Weight\n",
    "bothp['percap_wght'] =bothp.prop_percap * bothp.Weight"
   ]
  },
  {
   "cell_type": "markdown",
   "metadata": {},
   "source": [
    "### Set up weighted average along the border "
   ]
  },
  {
   "cell_type": "code",
   "execution_count": null,
   "metadata": {
    "collapsed": true
   },
   "outputs": [],
   "source": [
    "bdrcty = both.groupby(['pairs', 'time']).mean()\n",
    "bdrctyg = bothg.groupby(['pairs', 'time']).mean()\n",
    "bdrctyp = bothp.groupby(['pairs', 'time']).mean()"
   ]
  },
  {
   "cell_type": "code",
   "execution_count": null,
   "metadata": {},
   "outputs": [],
   "source": [
    "len(bdrcty)"
   ]
  },
  {
   "cell_type": "code",
   "execution_count": null,
   "metadata": {},
   "outputs": [],
   "source": [
    "bdrcty.columns"
   ]
  },
  {
   "cell_type": "code",
   "execution_count": null,
   "metadata": {},
   "outputs": [],
   "source": [
    "bdrctyp.columns"
   ]
  },
  {
   "cell_type": "code",
   "execution_count": null,
   "metadata": {
    "collapsed": true
   },
   "outputs": [],
   "source": [
    "bdrcty = bdrcty.reset_index()\n",
    "bdrcty = bdrcty.filter(['Group', 'qtryr', 'prop_wght', 'pop_wght', 'Emp_wght',\n",
    "       'growth_wght', 'str_wght', 'imtr_wght', 'percap_wght'])\n",
    "#growth\n",
    "bdrctyg = bdrctyg.reset_index()\n",
    "bdrctyg = bdrctyg.filter(['Group', 'qtryr', 'prop_wght', 'pop_wght', 'Emp_wght',\n",
    "       'growth_wght', 'str_wght', 'imtr_wght', 'percap_wght'])\n",
    "\n",
    "#prop\n",
    "bdrctyp = bdrctyp.reset_index()\n",
    "bdrctyp = bdrctyp.filter(['Group', 'qtryr', 'prop_wght', 'pop10_wght',\n",
    "       'growth_wght', 'str_wght', 'imtr_wght', 'percap_wght'])\n"
   ]
  },
  {
   "cell_type": "code",
   "execution_count": null,
   "metadata": {
    "collapsed": true
   },
   "outputs": [],
   "source": [
    "ks = a1014.merge(kkey, on = 'countyFIPS')\n",
    "ksg = g1014.merge(kkey, on = 'countyFIPS')\n",
    "ksp = p1014.merge(kkey, on = 'countyFIPS')"
   ]
  },
  {
   "cell_type": "code",
   "execution_count": null,
   "metadata": {},
   "outputs": [],
   "source": [
    "len(ksp)"
   ]
  },
  {
   "cell_type": "code",
   "execution_count": null,
   "metadata": {
    "collapsed": true
   },
   "outputs": [],
   "source": [
    "match = ks.merge(bdrcty, on = ['Group', 'qtryr'])\n",
    "matchg = ksg.merge(bdrctyg, on = ['Group', 'qtryr'])\n",
    "matchp = ksp.merge(bdrctyp, on = ['Group', 'qtryr'])"
   ]
  },
  {
   "cell_type": "code",
   "execution_count": null,
   "metadata": {},
   "outputs": [],
   "source": [
    "len(match)"
   ]
  },
  {
   "cell_type": "code",
   "execution_count": null,
   "metadata": {},
   "outputs": [],
   "source": [
    "len(matchg)"
   ]
  },
  {
   "cell_type": "code",
   "execution_count": null,
   "metadata": {},
   "outputs": [],
   "source": [
    "len(matchp)"
   ]
  },
  {
   "cell_type": "code",
   "execution_count": null,
   "metadata": {
    "collapsed": true
   },
   "outputs": [],
   "source": [
    "match['dprop'] = match.proprietors - match.prop_wght\n",
    "match['dpop'] = match.population - match.pop_wght\n",
    "match['demp'] =  match.Emp - match.Emp_wght\n",
    "match['dgrowth'] = match.emp_growth - match.growth_wght\n",
    "match['dstr'] = match.str - match.str_wght\n",
    "match['dimtr'] = match.imtr - match.imtr_wght\n",
    "match['dpercap'] = match.percap_emp - match.percap_wght\n",
    "#growth panel\n",
    "matchg['dprop'] = matchg.proprietors - matchg.prop_wght\n",
    "matchg['dpop'] = matchg.population - matchg.pop_wght\n",
    "matchg['demp'] =  matchg.Emp - matchg.Emp_wght\n",
    "matchg['dgrowth'] = matchg.emp_growth - matchg.growth_wght\n",
    "matchg['dstr'] = matchg.str - matchg.str_wght\n",
    "matchg['dimtr'] = matchg.imtr - matchg.imtr_wght\n",
    "matchg['dpercap'] = matchg.percap_emp - matchg.percap_wght\n",
    "#prop panel\n",
    "matchp['dprop'] = matchp.proprietors - matchp.prop_wght\n",
    "matchp['dpop10'] = matchp.pop10 - matchp.pop10_wght\n",
    "matchp['dgrowth'] = matchp.prop_growth - matchp.growth_wght\n",
    "matchp['dstr'] = matchp.str - matchp.str_wght\n",
    "matchp['dimtr'] = matchg.imtr - matchg.imtr_wght\n",
    "matchp['dpercap'] = matchp.prop_percap - matchp.percap_wght"
   ]
  },
  {
   "cell_type": "code",
   "execution_count": null,
   "metadata": {
    "collapsed": true
   },
   "outputs": [],
   "source": [
    "match['dpop'] = match['dpop'] *10\n",
    "matchg['dpop'] = matchg['dpop'] *10\n",
    "matchp['dpop10'] = matchp['dpop10'] *10"
   ]
  },
  {
   "cell_type": "code",
   "execution_count": null,
   "metadata": {
    "collapsed": true
   },
   "outputs": [],
   "source": [
    "matchlog = match.copy(deep=False)"
   ]
  },
  {
   "cell_type": "code",
   "execution_count": null,
   "metadata": {},
   "outputs": [],
   "source": [
    "len(matchlog)"
   ]
  },
  {
   "cell_type": "code",
   "execution_count": null,
   "metadata": {},
   "outputs": [],
   "source": [
    "matchlog['logdemp'] = np.log(matchlog.demp)"
   ]
  },
  {
   "cell_type": "code",
   "execution_count": null,
   "metadata": {},
   "outputs": [],
   "source": [
    "matchlog.dropna(inplace = True)\n",
    "len(matchlog)"
   ]
  },
  {
   "cell_type": "code",
   "execution_count": null,
   "metadata": {},
   "outputs": [],
   "source": [
    "matchlog.qtryr.unique()"
   ]
  },
  {
   "cell_type": "code",
   "execution_count": null,
   "metadata": {},
   "outputs": [],
   "source": [
    "matchlog.columns"
   ]
  },
  {
   "cell_type": "code",
   "execution_count": null,
   "metadata": {},
   "outputs": [],
   "source": [
    "matchlp = match.copy(deep=False)\n",
    "len(matchlp)"
   ]
  },
  {
   "cell_type": "code",
   "execution_count": null,
   "metadata": {},
   "outputs": [],
   "source": [
    "matchlp['logdprop'] = np.log(matchlog.dprop)\n",
    "matchlp.dropna(inplace = True)\n",
    "len(matchlp)"
   ]
  },
  {
   "cell_type": "markdown",
   "metadata": {},
   "source": [
    "### Regressions "
   ]
  },
  {
   "cell_type": "markdown",
   "metadata": {},
   "source": [
    "#### Employment "
   ]
  },
  {
   "cell_type": "code",
   "execution_count": null,
   "metadata": {},
   "outputs": [],
   "source": [
    "#loglinear\n",
    "sp1 = \"\"\"logdemp ~ KPost2012 + dpop + dstr + dimtr + C(qtryr) +C(countyFIPS)\"\"\"\n",
    "spec1 = smf.ols(formula=sp1, data=matchlog).fit(cov_type ='cluster', cov_kwds=\n",
    "                                             {'groups': matchlog.countyFIPS})\n",
    "spec1.summary()"
   ]
  },
  {
   "cell_type": "code",
   "execution_count": null,
   "metadata": {},
   "outputs": [],
   "source": [
    "#per capita\n",
    "sp2 = \"\"\"dpercap ~ KPost2012 + dstr + dimtr + C(qtryr) +C(countyFIPS)\"\"\"\n",
    "spec2 = smf.ols(formula=sp2, data=match).fit(cov_type ='cluster', cov_kwds=\n",
    "                                             {'groups': match.countyFIPS})\n",
    "spec2.summary()"
   ]
  },
  {
   "cell_type": "code",
   "execution_count": null,
   "metadata": {
    "collapsed": true
   },
   "outputs": [],
   "source": [
    "matchg = matchg[matchg['qtryr'] != 2010.1]"
   ]
  },
  {
   "cell_type": "code",
   "execution_count": null,
   "metadata": {},
   "outputs": [],
   "source": [
    "#growth rate \n",
    "sp3 = \"\"\"dgrowth ~ KPost2012 + dpop + dstr + dimtr + C(qtryr) +C(countyFIPS)\"\"\"\n",
    "spec3 = smf.ols(formula=sp3, data=matchg).fit(cov_type ='cluster', cov_kwds=\n",
    "                                             {'groups': matchg.countyFIPS})\n",
    "spec3.summary()"
   ]
  },
  {
   "cell_type": "markdown",
   "metadata": {},
   "source": [
    "#### Proprietors"
   ]
  },
  {
   "cell_type": "code",
   "execution_count": null,
   "metadata": {},
   "outputs": [],
   "source": [
    "#count\n",
    "sp4 = \"\"\"logdprop ~ KPost2012 + dimtr + C(qtryr) +C(countyFIPS)\"\"\"\n",
    "spec4 = smf.ols(formula=sp4, data=matchlp).fit(cov_type ='cluster', cov_kwds=\n",
    "                                             {'groups': matchlp.countyFIPS})\n",
    "spec4.summary()"
   ]
  },
  {
   "cell_type": "code",
   "execution_count": null,
   "metadata": {},
   "outputs": [],
   "source": [
    "#percap\n",
    "sp5 = \"\"\"dpercap ~ KPost2012 + dpop10 + dstr + dimtr + C(qtryr) +C(countyFIPS)\"\"\"\n",
    "spec5 = smf.ols(formula=sp5, data=matchp).fit(cov_type ='cluster', cov_kwds=\n",
    "                                             {'groups': matchp.countyFIPS})\n",
    "spec5.summary()"
   ]
  },
  {
   "cell_type": "code",
   "execution_count": null,
   "metadata": {
    "collapsed": true
   },
   "outputs": [],
   "source": [
    "matchp = matchp[matchp['qtryr'] != 2010.1]"
   ]
  },
  {
   "cell_type": "code",
   "execution_count": null,
   "metadata": {
    "collapsed": true
   },
   "outputs": [],
   "source": [
    "#percap\n",
    "sp6 = \"\"\"dgrowth ~ KPost2012 + dpop10 + dimtr + C(qtryr) +C(countyFIPS)\"\"\"\n",
    "spec6 = smf.ols(formula=sp6, data=matchp).fit(cov_type ='cluster', cov_kwds=\n",
    "                                             {'groups': matchp.countyFIPS})"
   ]
  },
  {
   "cell_type": "code",
   "execution_count": null,
   "metadata": {
    "collapsed": true
   },
   "outputs": [],
   "source": [
    "from statsmodels.iolib.summary2 import summary_col\n",
    "output = summary_col([spec1,spec2,spec3,spec4, spec5, spec6],stars=True)"
   ]
  },
  {
   "cell_type": "code",
   "execution_count": null,
   "metadata": {},
   "outputs": [],
   "source": [
    "output"
   ]
  }
 ],
 "metadata": {
  "kernelspec": {
   "display_name": "Python 3",
   "language": "python",
   "name": "python3"
  },
  "language_info": {
   "codemirror_mode": {
    "name": "ipython",
    "version": 3
   },
   "file_extension": ".py",
   "mimetype": "text/x-python",
   "name": "python",
   "nbconvert_exporter": "python",
   "pygments_lexer": "ipython3",
   "version": "3.6.2"
  }
 },
 "nbformat": 4,
 "nbformat_minor": 2
}
