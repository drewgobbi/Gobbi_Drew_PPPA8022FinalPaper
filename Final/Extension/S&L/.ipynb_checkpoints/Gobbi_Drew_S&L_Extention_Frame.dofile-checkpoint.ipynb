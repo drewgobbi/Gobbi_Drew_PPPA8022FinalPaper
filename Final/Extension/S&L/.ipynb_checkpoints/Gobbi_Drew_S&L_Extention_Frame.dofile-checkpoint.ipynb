{
 "cells": [
  {
   "cell_type": "markdown",
   "metadata": {},
   "source": [
    "### Import Packages and Setup"
   ]
  },
  {
   "cell_type": "code",
   "execution_count": null,
   "metadata": {
    "collapsed": true
   },
   "outputs": [],
   "source": [
    "import pandas as pd \n",
    "import numpy as np \n",
    "import os"
   ]
  },
  {
   "cell_type": "code",
   "execution_count": null,
   "metadata": {
    "collapsed": true
   },
   "outputs": [],
   "source": [
    "#set up lists of cols \n",
    "#gid\n",
    "gcols =  [(0,14),(113,115),(115,118)]\n",
    "gnames = ['idcode', 'stateFIPS', 'countyFIPS']\n",
    "#estdat = pd.read_fwf('2015FinEstDAT_08172017modp_pu 2.txt', \n",
    "ecols = [(0,14), (14,17),(17,29), (29,33), (33,34)]\n",
    "enames = ['idcode', 'itemcode', 'amount', 'year', 'flag']"
   ]
  },
  {
   "cell_type": "code",
   "execution_count": null,
   "metadata": {
    "collapsed": true
   },
   "outputs": [],
   "source": [
    "#load years\n",
    "gid15 = pd.read_fwf('Fin_GID_2015.txt', colspecs = gcols, names = gnames)\n",
    "e15 = pd.read_fwf('2015FinEstDAT_08172017modp_pu 2.txt', colspecs = ecols, names = enames)\n",
    "gid14 = pd.read_fwf('Fin_GID_2014.txt', colspecs = gcols, names = gnames)\n",
    "e14 = pd.read_fwf('2014FinEstDAT_08172017modp_pu.txt', colspecs = ecols, names = enames)\n",
    "gid13 = pd.read_fwf('Fin_GID_2013.txt', colspecs = gcols, names = gnames)\n",
    "e13 = pd.read_fwf('2013FinEstDAT_08172017modp_pu.txt', colspecs = ecols, names = enames)\n",
    "gid12 = pd.read_fwf('Fin_GID_2012.txt', colspecs = gcols, names = gnames)\n",
    "e12 = pd.read_fwf('2012FinEstDAT_08172017modp_pu.txt', colspecs = ecols, names = enames)"
   ]
  },
  {
   "cell_type": "code",
   "execution_count": null,
   "metadata": {
    "collapsed": true
   },
   "outputs": [],
   "source": [
    "e10 = pd.read_fwf('10statetypepu.txt', colspecs = [(0,2), (2,3), (4,7), (8,20),], \n",
    "                  names = ['stateFIPS', 'levelofgov', 'itemcode', 'amount',])\n",
    "e11 = pd.read_fwf('11statetypepu.txt', colspecs = [(0,2), (2,3), (4,7), (8,20),], \n",
    "                  names = ['stateFIPS', 'levelofgov', 'itemcode', 'amount',])"
   ]
  },
  {
   "cell_type": "markdown",
   "metadata": {},
   "source": [
    "...state & local data only gives 'local totals' for years 2011 and 2010, which cannot be summed to county level like in later years. for these reasons, restricting DD to immediately before and after, years 2012, 2013, 2014. "
   ]
  },
  {
   "cell_type": "code",
   "execution_count": null,
   "metadata": {
    "collapsed": true
   },
   "outputs": [],
   "source": [
    "gid14.idcode = gid14.idcode.astype(int)\n",
    "gid13.idcode = gid13.idcode.astype(int)\n",
    "gid12.idcode = gid12.idcode.astype(int)"
   ]
  },
  {
   "cell_type": "code",
   "execution_count": null,
   "metadata": {
    "collapsed": true
   },
   "outputs": [],
   "source": [
    "f14 = e14.merge(gid14, on = 'idcode')\n",
    "f13 = e13.merge(gid13, on = 'idcode')\n",
    "f12 = e12.merge(gid12, on = 'idcode')"
   ]
  },
  {
   "cell_type": "code",
   "execution_count": null,
   "metadata": {
    "collapsed": true
   },
   "outputs": [],
   "source": [
    "big = f14.append(f13)\n",
    "big = big.append(f12)"
   ]
  },
  {
   "cell_type": "code",
   "execution_count": null,
   "metadata": {
    "collapsed": true
   },
   "outputs": [],
   "source": [
    "ks = big[big['stateFIPS'] == 20]\n",
    "co = big[big['stateFIPS'] == 8]\n",
    "mo = big[big['stateFIPS'] == 29]\n",
    "ok = big[big['stateFIPS'] == 40]\n",
    "ne = big[big['stateFIPS'] == 31]"
   ]
  },
  {
   "cell_type": "code",
   "execution_count": null,
   "metadata": {
    "collapsed": true
   },
   "outputs": [],
   "source": [
    "census = ks.append(co)\n",
    "census = census.append(mo)\n",
    "census = census.append(ok)\n",
    "census = census.append(ne)"
   ]
  },
  {
   "cell_type": "code",
   "execution_count": null,
   "metadata": {
    "collapsed": true
   },
   "outputs": [],
   "source": [
    "census.countyFIPS = census.stateFIPS*1000 + census.countyFIPS"
   ]
  },
  {
   "cell_type": "code",
   "execution_count": null,
   "metadata": {
    "collapsed": true
   },
   "outputs": [],
   "source": [
    "educ = census[census['itemcode'] == 'E12']"
   ]
  },
  {
   "cell_type": "code",
   "execution_count": null,
   "metadata": {},
   "outputs": [],
   "source": [
    "educ"
   ]
  },
  {
   "cell_type": "code",
   "execution_count": null,
   "metadata": {
    "collapsed": true
   },
   "outputs": [],
   "source": [
    "ed = educ.drop('idcode', axis = 1)"
   ]
  },
  {
   "cell_type": "code",
   "execution_count": null,
   "metadata": {
    "collapsed": true
   },
   "outputs": [],
   "source": [
    "ed = ed.groupby(['year', 'countyFIPS', 'stateFIPS']).sum()"
   ]
  },
  {
   "cell_type": "code",
   "execution_count": null,
   "metadata": {},
   "outputs": [],
   "source": [
    "ed.amount.mean()"
   ]
  },
  {
   "cell_type": "markdown",
   "metadata": {},
   "source": [
    "E12 = Elementary and Secondary Ed E36 = Hospitals E44 + E45 = Highways E50 = Housing and Community Development E62 = Police Protection E24 = Local Fire Protection"
   ]
  },
  {
   "cell_type": "code",
   "execution_count": null,
   "metadata": {
    "collapsed": true
   },
   "outputs": [],
   "source": [
    "ed.to_csv('ed.csv')"
   ]
  },
  {
   "cell_type": "code",
   "execution_count": null,
   "metadata": {
    "collapsed": true
   },
   "outputs": [],
   "source": [
    "hosp = census[census['itemcode'] == 'E36']"
   ]
  },
  {
   "cell_type": "code",
   "execution_count": null,
   "metadata": {},
   "outputs": [],
   "source": [
    "hosp.idcode = hosp.idcode.astype(str, inplace = True)"
   ]
  },
  {
   "cell_type": "code",
   "execution_count": null,
   "metadata": {},
   "outputs": [],
   "source": [
    "hosp.dtypes"
   ]
  },
  {
   "cell_type": "code",
   "execution_count": null,
   "metadata": {},
   "outputs": [],
   "source": [
    "hosp.sort_values(['countyFIPS', 'year'])"
   ]
  },
  {
   "cell_type": "code",
   "execution_count": null,
   "metadata": {
    "collapsed": true
   },
   "outputs": [],
   "source": [
    "hosp.to_csv('hosp.csv')"
   ]
  },
  {
   "cell_type": "code",
   "execution_count": null,
   "metadata": {},
   "outputs": [],
   "source": [
    "len(hosp)"
   ]
  },
  {
   "cell_type": "code",
   "execution_count": null,
   "metadata": {
    "collapsed": true
   },
   "outputs": [],
   "source": [
    "hous = census[census['itemcode'] == 'E50']"
   ]
  },
  {
   "cell_type": "code",
   "execution_count": null,
   "metadata": {},
   "outputs": [],
   "source": [
    "hous.sort_values(['year', 'stateFIPS'])"
   ]
  },
  {
   "cell_type": "code",
   "execution_count": null,
   "metadata": {
    "collapsed": true
   },
   "outputs": [],
   "source": [
    "hous.to_csv('hous.csv')"
   ]
  },
  {
   "cell_type": "code",
   "execution_count": null,
   "metadata": {
    "collapsed": true
   },
   "outputs": [],
   "source": [
    "police = census[census['itemcode'] == 'E62']"
   ]
  },
  {
   "cell_type": "code",
   "execution_count": null,
   "metadata": {},
   "outputs": [],
   "source": [
    "police.sort_values(['year', 'countyFIPS'])"
   ]
  },
  {
   "cell_type": "code",
   "execution_count": null,
   "metadata": {
    "collapsed": true
   },
   "outputs": [],
   "source": [
    "police = police.drop('idcode', axis = 1)\n",
    "police = police.groupby(['year', 'countyFIPS', 'stateFIPS']).sum()"
   ]
  },
  {
   "cell_type": "code",
   "execution_count": null,
   "metadata": {
    "collapsed": true
   },
   "outputs": [],
   "source": [
    "police.to_csv('police.csv')"
   ]
  },
  {
   "cell_type": "code",
   "execution_count": null,
   "metadata": {
    "collapsed": true
   },
   "outputs": [],
   "source": [
    "fire = census[census['itemcode'] == 'E24']"
   ]
  },
  {
   "cell_type": "code",
   "execution_count": null,
   "metadata": {
    "collapsed": true
   },
   "outputs": [],
   "source": [
    "fire.sort_values(['year', 'countyFIPS'])\n",
    "fire = fire.drop('idcode', axis = 1)\n",
    "fire = fire.groupby(['year', 'countyFIPS', 'stateFIPS']).sum()"
   ]
  },
  {
   "cell_type": "code",
   "execution_count": null,
   "metadata": {
    "collapsed": true
   },
   "outputs": [],
   "source": [
    "fire.to_csv('fire.csv')"
   ]
  },
  {
   "cell_type": "code",
   "execution_count": null,
   "metadata": {
    "collapsed": true
   },
   "outputs": [],
   "source": [
    "fire = pd.read_csv('fire.csv')\n",
    "police = pd.read_csv('police.csv')\n",
    "hous = pd.read_csv('hous.csv')\n",
    "hosp = pd.read_csv('hosp.csv')\n",
    "ed = pd.read_csv('ed.csv')"
   ]
  }
 ],
 "metadata": {
  "kernelspec": {
   "display_name": "Python 3",
   "language": "python",
   "name": "python3"
  },
  "language_info": {
   "codemirror_mode": {
    "name": "ipython",
    "version": 3
   },
   "file_extension": ".py",
   "mimetype": "text/x-python",
   "name": "python",
   "nbconvert_exporter": "python",
   "pygments_lexer": "ipython3",
   "version": "3.6.2"
  }
 },
 "nbformat": 4,
 "nbformat_minor": 2
}
